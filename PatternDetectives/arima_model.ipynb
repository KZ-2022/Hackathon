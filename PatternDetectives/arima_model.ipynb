{
 "cells": [
  {
   "cell_type": "code",
   "execution_count": 11,
   "id": "8289f3e1-d571-46b2-99ab-2a369f5910a3",
   "metadata": {
    "tags": []
   },
   "outputs": [],
   "source": [
    "# pip install pmdarima"
   ]
  },
  {
   "cell_type": "code",
   "execution_count": 1,
   "id": "74d9b221-7b1a-4be2-9e63-5ccf2c120025",
   "metadata": {
    "tags": []
   },
   "outputs": [],
   "source": [
    "from pmdarima.arima import auto_arima"
   ]
  },
  {
   "cell_type": "code",
   "execution_count": 2,
   "id": "8ca60f3b-1d19-4032-a9c6-4f65da4b8ba5",
   "metadata": {
    "tags": []
   },
   "outputs": [],
   "source": [
    "import pandas as pd\n",
    "import numpy as np"
   ]
  },
  {
   "cell_type": "code",
   "execution_count": 3,
   "id": "5084fc92-9234-40f1-9f09-42d73e06bbf6",
   "metadata": {
    "tags": []
   },
   "outputs": [],
   "source": [
    "df_monthly = pd.read_csv('monthly_data.csv')\n",
    "\n",
    "df_weekly = pd.read_excel('weekly_data_v1.xlsx')\n",
    "\n",
    "df_validate = pd.read_csv('monthly_validate.csv')"
   ]
  },
  {
   "cell_type": "code",
   "execution_count": null,
   "id": "98770be9-0c9f-44e7-943d-adfb233734d5",
   "metadata": {},
   "outputs": [],
   "source": []
  },
  {
   "cell_type": "code",
   "execution_count": 4,
   "id": "51d8594f-224e-4ba2-90f4-0a58c86a493b",
   "metadata": {
    "tags": []
   },
   "outputs": [],
   "source": [
    "df_monthly['datum'] = pd.to_datetime(df_monthly['datum'])"
   ]
  },
  {
   "cell_type": "code",
   "execution_count": 5,
   "id": "57dde588-f0e9-453d-8c58-48bd7be84eda",
   "metadata": {
    "tags": []
   },
   "outputs": [],
   "source": [
    "df_train = df_monthly\n",
    "\n",
    "df_predict = df_validate.copy()"
   ]
  },
  {
   "cell_type": "code",
   "execution_count": 6,
   "id": "f42f52cb-9b6a-4041-89ff-70043342d0f6",
   "metadata": {
    "tags": []
   },
   "outputs": [
    {
     "data": {
      "text/html": [
       "<div>\n",
       "<style scoped>\n",
       "    .dataframe tbody tr th:only-of-type {\n",
       "        vertical-align: middle;\n",
       "    }\n",
       "\n",
       "    .dataframe tbody tr th {\n",
       "        vertical-align: top;\n",
       "    }\n",
       "\n",
       "    .dataframe thead th {\n",
       "        text-align: right;\n",
       "    }\n",
       "</style>\n",
       "<table border=\"1\" class=\"dataframe\">\n",
       "  <thead>\n",
       "    <tr style=\"text-align: right;\">\n",
       "      <th></th>\n",
       "      <th>Unnamed: 0</th>\n",
       "      <th>datum</th>\n",
       "      <th>RemediMax</th>\n",
       "      <th>VitaFlux</th>\n",
       "      <th>SynaptraZol</th>\n",
       "      <th>NeuroRevive</th>\n",
       "      <th>Immunoxen</th>\n",
       "      <th>RemediSol</th>\n",
       "      <th>Vitalisol</th>\n",
       "      <th>RestoraZen</th>\n",
       "    </tr>\n",
       "  </thead>\n",
       "  <tbody>\n",
       "    <tr>\n",
       "      <th>0</th>\n",
       "      <td>60</td>\n",
       "      <td>2022-01-30</td>\n",
       "      <td>179.70</td>\n",
       "      <td>222.351</td>\n",
       "      <td>99.70</td>\n",
       "      <td>1660.612</td>\n",
       "      <td>295.2</td>\n",
       "      <td>23.0</td>\n",
       "      <td>386.0</td>\n",
       "      <td>41.30</td>\n",
       "    </tr>\n",
       "    <tr>\n",
       "      <th>1</th>\n",
       "      <td>61</td>\n",
       "      <td>2022-02-27</td>\n",
       "      <td>133.73</td>\n",
       "      <td>142.155</td>\n",
       "      <td>110.20</td>\n",
       "      <td>1001.212</td>\n",
       "      <td>249.4</td>\n",
       "      <td>12.0</td>\n",
       "      <td>226.0</td>\n",
       "      <td>69.50</td>\n",
       "    </tr>\n",
       "    <tr>\n",
       "      <th>2</th>\n",
       "      <td>62</td>\n",
       "      <td>2022-03-30</td>\n",
       "      <td>154.52</td>\n",
       "      <td>113.118</td>\n",
       "      <td>83.35</td>\n",
       "      <td>941.050</td>\n",
       "      <td>301.4</td>\n",
       "      <td>19.0</td>\n",
       "      <td>257.0</td>\n",
       "      <td>169.50</td>\n",
       "    </tr>\n",
       "    <tr>\n",
       "      <th>3</th>\n",
       "      <td>63</td>\n",
       "      <td>2022-04-29</td>\n",
       "      <td>161.39</td>\n",
       "      <td>100.165</td>\n",
       "      <td>88.10</td>\n",
       "      <td>647.650</td>\n",
       "      <td>299.4</td>\n",
       "      <td>22.0</td>\n",
       "      <td>259.0</td>\n",
       "      <td>179.10</td>\n",
       "    </tr>\n",
       "    <tr>\n",
       "      <th>4</th>\n",
       "      <td>64</td>\n",
       "      <td>2022-05-30</td>\n",
       "      <td>168.04</td>\n",
       "      <td>97.258</td>\n",
       "      <td>104.10</td>\n",
       "      <td>703.562</td>\n",
       "      <td>265.8</td>\n",
       "      <td>26.0</td>\n",
       "      <td>322.0</td>\n",
       "      <td>135.40</td>\n",
       "    </tr>\n",
       "    <tr>\n",
       "      <th>5</th>\n",
       "      <td>65</td>\n",
       "      <td>2022-06-29</td>\n",
       "      <td>151.54</td>\n",
       "      <td>101.627</td>\n",
       "      <td>103.20</td>\n",
       "      <td>610.000</td>\n",
       "      <td>193.0</td>\n",
       "      <td>25.0</td>\n",
       "      <td>142.0</td>\n",
       "      <td>156.04</td>\n",
       "    </tr>\n",
       "    <tr>\n",
       "      <th>6</th>\n",
       "      <td>66</td>\n",
       "      <td>2022-07-30</td>\n",
       "      <td>181.00</td>\n",
       "      <td>103.541</td>\n",
       "      <td>92.80</td>\n",
       "      <td>649.800</td>\n",
       "      <td>250.6</td>\n",
       "      <td>20.0</td>\n",
       "      <td>115.0</td>\n",
       "      <td>105.20</td>\n",
       "    </tr>\n",
       "    <tr>\n",
       "      <th>7</th>\n",
       "      <td>67</td>\n",
       "      <td>2022-08-30</td>\n",
       "      <td>181.91</td>\n",
       "      <td>88.269</td>\n",
       "      <td>84.20</td>\n",
       "      <td>518.100</td>\n",
       "      <td>237.0</td>\n",
       "      <td>26.0</td>\n",
       "      <td>145.0</td>\n",
       "      <td>97.30</td>\n",
       "    </tr>\n",
       "    <tr>\n",
       "      <th>8</th>\n",
       "      <td>68</td>\n",
       "      <td>2022-09-29</td>\n",
       "      <td>161.07</td>\n",
       "      <td>111.437</td>\n",
       "      <td>93.50</td>\n",
       "      <td>984.480</td>\n",
       "      <td>227.8</td>\n",
       "      <td>16.0</td>\n",
       "      <td>161.0</td>\n",
       "      <td>109.10</td>\n",
       "    </tr>\n",
       "    <tr>\n",
       "      <th>9</th>\n",
       "      <td>69</td>\n",
       "      <td>2022-10-30</td>\n",
       "      <td>44.37</td>\n",
       "      <td>37.300</td>\n",
       "      <td>20.65</td>\n",
       "      <td>295.150</td>\n",
       "      <td>86.0</td>\n",
       "      <td>7.0</td>\n",
       "      <td>37.0</td>\n",
       "      <td>11.13</td>\n",
       "    </tr>\n",
       "  </tbody>\n",
       "</table>\n",
       "</div>"
      ],
      "text/plain": [
       "   Unnamed: 0       datum  RemediMax  VitaFlux  SynaptraZol  NeuroRevive  \\\n",
       "0          60  2022-01-30     179.70   222.351        99.70     1660.612   \n",
       "1          61  2022-02-27     133.73   142.155       110.20     1001.212   \n",
       "2          62  2022-03-30     154.52   113.118        83.35      941.050   \n",
       "3          63  2022-04-29     161.39   100.165        88.10      647.650   \n",
       "4          64  2022-05-30     168.04    97.258       104.10      703.562   \n",
       "5          65  2022-06-29     151.54   101.627       103.20      610.000   \n",
       "6          66  2022-07-30     181.00   103.541        92.80      649.800   \n",
       "7          67  2022-08-30     181.91    88.269        84.20      518.100   \n",
       "8          68  2022-09-29     161.07   111.437        93.50      984.480   \n",
       "9          69  2022-10-30      44.37    37.300        20.65      295.150   \n",
       "\n",
       "   Immunoxen  RemediSol  Vitalisol  RestoraZen  \n",
       "0      295.2       23.0      386.0       41.30  \n",
       "1      249.4       12.0      226.0       69.50  \n",
       "2      301.4       19.0      257.0      169.50  \n",
       "3      299.4       22.0      259.0      179.10  \n",
       "4      265.8       26.0      322.0      135.40  \n",
       "5      193.0       25.0      142.0      156.04  \n",
       "6      250.6       20.0      115.0      105.20  \n",
       "7      237.0       26.0      145.0       97.30  \n",
       "8      227.8       16.0      161.0      109.10  \n",
       "9       86.0        7.0       37.0       11.13  "
      ]
     },
     "execution_count": 6,
     "metadata": {},
     "output_type": "execute_result"
    }
   ],
   "source": [
    "df_predict"
   ]
  },
  {
   "cell_type": "code",
   "execution_count": 7,
   "id": "3ab336fc-20d9-426c-86be-4263dd5fd158",
   "metadata": {
    "tags": []
   },
   "outputs": [
    {
     "name": "stdout",
     "output_type": "stream",
     "text": [
      "RemediMax\n"
     ]
    },
    {
     "name": "stderr",
     "output_type": "stream",
     "text": [
      "/opt/conda/lib/python3.7/site-packages/statsmodels/tsa/base/tsa_model.py:843: ValueWarning: No supported index is available. Prediction results will be given with an integer index beginning at `start`.\n",
      "  data=self.data,\n"
     ]
    },
    {
     "name": "stdout",
     "output_type": "stream",
     "text": [
      "VitaFlux\n"
     ]
    },
    {
     "name": "stderr",
     "output_type": "stream",
     "text": [
      "/opt/conda/lib/python3.7/site-packages/statsmodels/tsa/base/tsa_model.py:843: ValueWarning: No supported index is available. Prediction results will be given with an integer index beginning at `start`.\n",
      "  data=self.data,\n"
     ]
    },
    {
     "name": "stdout",
     "output_type": "stream",
     "text": [
      "SynaptraZol\n"
     ]
    },
    {
     "name": "stderr",
     "output_type": "stream",
     "text": [
      "/opt/conda/lib/python3.7/site-packages/statsmodels/tsa/base/tsa_model.py:843: ValueWarning: No supported index is available. Prediction results will be given with an integer index beginning at `start`.\n",
      "  data=self.data,\n"
     ]
    },
    {
     "name": "stdout",
     "output_type": "stream",
     "text": [
      "NeuroRevive\n"
     ]
    },
    {
     "name": "stderr",
     "output_type": "stream",
     "text": [
      "/opt/conda/lib/python3.7/site-packages/statsmodels/tsa/base/tsa_model.py:843: ValueWarning: No supported index is available. Prediction results will be given with an integer index beginning at `start`.\n",
      "  data=self.data,\n"
     ]
    },
    {
     "name": "stdout",
     "output_type": "stream",
     "text": [
      "Immunoxen\n"
     ]
    },
    {
     "name": "stderr",
     "output_type": "stream",
     "text": [
      "/opt/conda/lib/python3.7/site-packages/statsmodels/tsa/base/tsa_model.py:843: ValueWarning: No supported index is available. Prediction results will be given with an integer index beginning at `start`.\n",
      "  data=self.data,\n"
     ]
    },
    {
     "name": "stdout",
     "output_type": "stream",
     "text": [
      "RemediSol\n"
     ]
    },
    {
     "name": "stderr",
     "output_type": "stream",
     "text": [
      "/opt/conda/lib/python3.7/site-packages/statsmodels/tsa/base/tsa_model.py:843: ValueWarning: No supported index is available. Prediction results will be given with an integer index beginning at `start`.\n",
      "  data=self.data,\n"
     ]
    },
    {
     "name": "stdout",
     "output_type": "stream",
     "text": [
      "Vitalisol\n"
     ]
    },
    {
     "name": "stderr",
     "output_type": "stream",
     "text": [
      "/opt/conda/lib/python3.7/site-packages/statsmodels/tsa/base/tsa_model.py:843: ValueWarning: No supported index is available. Prediction results will be given with an integer index beginning at `start`.\n",
      "  data=self.data,\n"
     ]
    },
    {
     "name": "stdout",
     "output_type": "stream",
     "text": [
      "RestoraZen\n"
     ]
    },
    {
     "name": "stderr",
     "output_type": "stream",
     "text": [
      "/opt/conda/lib/python3.7/site-packages/statsmodels/tsa/base/tsa_model.py:843: ValueWarning: No supported index is available. Prediction results will be given with an integer index beginning at `start`.\n",
      "  data=self.data,\n"
     ]
    }
   ],
   "source": [
    "d_forecast = {}\n",
    "n=10\n",
    "df_output = pd.DataFrame()\n",
    "\n",
    "for var in df_train.columns[2:]:\n",
    "    \n",
    "    print(var)\n",
    "    \n",
    "    model = auto_arima(df_train.set_index('datum')[var])\n",
    "    \n",
    "    forecast, conf_int = model.predict(n_periods=n, return_conf_int=True)\n",
    "    \n",
    "    df_tmp_ = pd.DataFrame()\n",
    "    \n",
    "    \n",
    "    df_tmp_['forecast'] = forecast\n",
    "    df_tmp_['date'] = df_predict['datum'].values\n",
    "    df_tmp_['actual'] = df_predict[var].values\n",
    "    df_tmp_['model'] = 'ARIMA'\n",
    "    df_tmp_['granularity'] = 'M'\n",
    "    df_tmp_['variable'] = var\n",
    "    \n",
    "    df_output = pd.concat([df_output,df_tmp_])\n",
    "    # print(forecast)\n",
    "    \n",
    "    d_forecast[var] = forecast    "
   ]
  },
  {
   "cell_type": "code",
   "execution_count": 12,
   "id": "dba941e2-d932-4026-be71-26f902853737",
   "metadata": {
    "tags": []
   },
   "outputs": [
    {
     "data": {
      "text/html": [
       "<div>\n",
       "<style scoped>\n",
       "    .dataframe tbody tr th:only-of-type {\n",
       "        vertical-align: middle;\n",
       "    }\n",
       "\n",
       "    .dataframe tbody tr th {\n",
       "        vertical-align: top;\n",
       "    }\n",
       "\n",
       "    .dataframe thead th {\n",
       "        text-align: right;\n",
       "    }\n",
       "</style>\n",
       "<table border=\"1\" class=\"dataframe\">\n",
       "  <thead>\n",
       "    <tr style=\"text-align: right;\">\n",
       "      <th></th>\n",
       "      <th>forecast</th>\n",
       "      <th>date</th>\n",
       "      <th>actual</th>\n",
       "      <th>model</th>\n",
       "      <th>granularity</th>\n",
       "      <th>variable</th>\n",
       "    </tr>\n",
       "  </thead>\n",
       "  <tbody>\n",
       "    <tr>\n",
       "      <th>60</th>\n",
       "      <td>148.905737</td>\n",
       "      <td>2022-01-30</td>\n",
       "      <td>179.70</td>\n",
       "      <td>ARIMA</td>\n",
       "      <td>M</td>\n",
       "      <td>RemediMax</td>\n",
       "    </tr>\n",
       "    <tr>\n",
       "      <th>61</th>\n",
       "      <td>149.307686</td>\n",
       "      <td>2022-02-27</td>\n",
       "      <td>133.73</td>\n",
       "      <td>ARIMA</td>\n",
       "      <td>M</td>\n",
       "      <td>RemediMax</td>\n",
       "    </tr>\n",
       "    <tr>\n",
       "      <th>62</th>\n",
       "      <td>149.442802</td>\n",
       "      <td>2022-03-30</td>\n",
       "      <td>154.52</td>\n",
       "      <td>ARIMA</td>\n",
       "      <td>M</td>\n",
       "      <td>RemediMax</td>\n",
       "    </tr>\n",
       "    <tr>\n",
       "      <th>63</th>\n",
       "      <td>149.488221</td>\n",
       "      <td>2022-04-29</td>\n",
       "      <td>161.39</td>\n",
       "      <td>ARIMA</td>\n",
       "      <td>M</td>\n",
       "      <td>RemediMax</td>\n",
       "    </tr>\n",
       "    <tr>\n",
       "      <th>64</th>\n",
       "      <td>149.503489</td>\n",
       "      <td>2022-05-30</td>\n",
       "      <td>168.04</td>\n",
       "      <td>ARIMA</td>\n",
       "      <td>M</td>\n",
       "      <td>RemediMax</td>\n",
       "    </tr>\n",
       "    <tr>\n",
       "      <th>...</th>\n",
       "      <td>...</td>\n",
       "      <td>...</td>\n",
       "      <td>...</td>\n",
       "      <td>...</td>\n",
       "      <td>...</td>\n",
       "      <td>...</td>\n",
       "    </tr>\n",
       "    <tr>\n",
       "      <th>65</th>\n",
       "      <td>96.915474</td>\n",
       "      <td>2022-06-29</td>\n",
       "      <td>156.04</td>\n",
       "      <td>ARIMA</td>\n",
       "      <td>M</td>\n",
       "      <td>RestoraZen</td>\n",
       "    </tr>\n",
       "    <tr>\n",
       "      <th>66</th>\n",
       "      <td>98.934422</td>\n",
       "      <td>2022-07-30</td>\n",
       "      <td>105.20</td>\n",
       "      <td>ARIMA</td>\n",
       "      <td>M</td>\n",
       "      <td>RestoraZen</td>\n",
       "    </tr>\n",
       "    <tr>\n",
       "      <th>67</th>\n",
       "      <td>96.897098</td>\n",
       "      <td>2022-08-30</td>\n",
       "      <td>97.30</td>\n",
       "      <td>ARIMA</td>\n",
       "      <td>M</td>\n",
       "      <td>RestoraZen</td>\n",
       "    </tr>\n",
       "    <tr>\n",
       "      <th>68</th>\n",
       "      <td>92.153013</td>\n",
       "      <td>2022-09-29</td>\n",
       "      <td>109.10</td>\n",
       "      <td>ARIMA</td>\n",
       "      <td>M</td>\n",
       "      <td>RestoraZen</td>\n",
       "    </tr>\n",
       "    <tr>\n",
       "      <th>69</th>\n",
       "      <td>86.395100</td>\n",
       "      <td>2022-10-30</td>\n",
       "      <td>11.13</td>\n",
       "      <td>ARIMA</td>\n",
       "      <td>M</td>\n",
       "      <td>RestoraZen</td>\n",
       "    </tr>\n",
       "  </tbody>\n",
       "</table>\n",
       "<p>80 rows × 6 columns</p>\n",
       "</div>"
      ],
      "text/plain": [
       "      forecast        date  actual  model granularity    variable\n",
       "60  148.905737  2022-01-30  179.70  ARIMA           M   RemediMax\n",
       "61  149.307686  2022-02-27  133.73  ARIMA           M   RemediMax\n",
       "62  149.442802  2022-03-30  154.52  ARIMA           M   RemediMax\n",
       "63  149.488221  2022-04-29  161.39  ARIMA           M   RemediMax\n",
       "64  149.503489  2022-05-30  168.04  ARIMA           M   RemediMax\n",
       "..         ...         ...     ...    ...         ...         ...\n",
       "65   96.915474  2022-06-29  156.04  ARIMA           M  RestoraZen\n",
       "66   98.934422  2022-07-30  105.20  ARIMA           M  RestoraZen\n",
       "67   96.897098  2022-08-30   97.30  ARIMA           M  RestoraZen\n",
       "68   92.153013  2022-09-29  109.10  ARIMA           M  RestoraZen\n",
       "69   86.395100  2022-10-30   11.13  ARIMA           M  RestoraZen\n",
       "\n",
       "[80 rows x 6 columns]"
      ]
     },
     "execution_count": 12,
     "metadata": {},
     "output_type": "execute_result"
    }
   ],
   "source": [
    "df_output"
   ]
  },
  {
   "cell_type": "code",
   "execution_count": 13,
   "id": "5804537e-5582-4c3c-8d2f-c3d7c3980c1f",
   "metadata": {
    "tags": []
   },
   "outputs": [],
   "source": [
    "def mape(actual,forecast):\n",
    "    return np.mean(abs(actual - forecast)/actual)"
   ]
  },
  {
   "cell_type": "code",
   "execution_count": 14,
   "id": "5e862ca6-bf81-4881-9ceb-241b5eb28f4a",
   "metadata": {
    "tags": []
   },
   "outputs": [],
   "source": [
    "def smape(actual,forecast):\n",
    "    return np.mean(2*abs(actual-forecast)/(abs(actual)+abs(forecast)))"
   ]
  },
  {
   "cell_type": "code",
   "execution_count": null,
   "id": "2dbaae17-4467-43a3-b6a5-f2cc851c95f2",
   "metadata": {},
   "outputs": [],
   "source": []
  },
  {
   "cell_type": "code",
   "execution_count": 15,
   "id": "99aca078-3c46-4ec7-8a76-8255d6d6e760",
   "metadata": {
    "tags": []
   },
   "outputs": [],
   "source": [
    "d_error = {}\n",
    "\n",
    "d_error['variable'] = []\n",
    "\n",
    "d_error['mape'] = []\n",
    "\n",
    "d_error['smape'] = []\n",
    "\n",
    "\n",
    "for key in d_forecast.keys():\n",
    "    \n",
    "    d_error['variable'].append(key)\n",
    "    \n",
    "    d_error['mape'].append( mape(df_predict[key],d_forecast[key].reset_index(drop=True) ))\n",
    "    \n",
    "    d_error['smape'].append( smape(df_predict[key], d_forecast[key].reset_index(drop=True) ) )  "
   ]
  },
  {
   "cell_type": "code",
   "execution_count": 24,
   "id": "9f1c4925-22c2-4383-b58b-9286e2c20d50",
   "metadata": {
    "tags": []
   },
   "outputs": [],
   "source": [
    "# pd.DataFrame(d_error)"
   ]
  },
  {
   "cell_type": "code",
   "execution_count": 20,
   "id": "e288d306-7fe3-4d51-9d4e-76d2abffbdb5",
   "metadata": {
    "tags": []
   },
   "outputs": [],
   "source": [
    "pd.DataFrame(d_error).to_csv('arima_error.csv')"
   ]
  },
  {
   "cell_type": "code",
   "execution_count": 22,
   "id": "321a11f9-2634-4512-9e9e-48a86ff2e246",
   "metadata": {
    "tags": []
   },
   "outputs": [],
   "source": [
    "df_output.to_csv('arima_output.csv')"
   ]
  }
 ],
 "metadata": {
  "availableInstances": [
   {
    "_defaultOrder": 0,
    "_isFastLaunch": true,
    "category": "General purpose",
    "gpuNum": 0,
    "hideHardwareSpecs": false,
    "memoryGiB": 4,
    "name": "ml.t3.medium",
    "vcpuNum": 2
   },
   {
    "_defaultOrder": 1,
    "_isFastLaunch": false,
    "category": "General purpose",
    "gpuNum": 0,
    "hideHardwareSpecs": false,
    "memoryGiB": 8,
    "name": "ml.t3.large",
    "vcpuNum": 2
   },
   {
    "_defaultOrder": 2,
    "_isFastLaunch": false,
    "category": "General purpose",
    "gpuNum": 0,
    "hideHardwareSpecs": false,
    "memoryGiB": 16,
    "name": "ml.t3.xlarge",
    "vcpuNum": 4
   },
   {
    "_defaultOrder": 3,
    "_isFastLaunch": false,
    "category": "General purpose",
    "gpuNum": 0,
    "hideHardwareSpecs": false,
    "memoryGiB": 32,
    "name": "ml.t3.2xlarge",
    "vcpuNum": 8
   },
   {
    "_defaultOrder": 4,
    "_isFastLaunch": true,
    "category": "General purpose",
    "gpuNum": 0,
    "hideHardwareSpecs": false,
    "memoryGiB": 8,
    "name": "ml.m5.large",
    "vcpuNum": 2
   },
   {
    "_defaultOrder": 5,
    "_isFastLaunch": false,
    "category": "General purpose",
    "gpuNum": 0,
    "hideHardwareSpecs": false,
    "memoryGiB": 16,
    "name": "ml.m5.xlarge",
    "vcpuNum": 4
   },
   {
    "_defaultOrder": 6,
    "_isFastLaunch": false,
    "category": "General purpose",
    "gpuNum": 0,
    "hideHardwareSpecs": false,
    "memoryGiB": 32,
    "name": "ml.m5.2xlarge",
    "vcpuNum": 8
   },
   {
    "_defaultOrder": 7,
    "_isFastLaunch": false,
    "category": "General purpose",
    "gpuNum": 0,
    "hideHardwareSpecs": false,
    "memoryGiB": 64,
    "name": "ml.m5.4xlarge",
    "vcpuNum": 16
   },
   {
    "_defaultOrder": 8,
    "_isFastLaunch": false,
    "category": "General purpose",
    "gpuNum": 0,
    "hideHardwareSpecs": false,
    "memoryGiB": 128,
    "name": "ml.m5.8xlarge",
    "vcpuNum": 32
   },
   {
    "_defaultOrder": 9,
    "_isFastLaunch": false,
    "category": "General purpose",
    "gpuNum": 0,
    "hideHardwareSpecs": false,
    "memoryGiB": 192,
    "name": "ml.m5.12xlarge",
    "vcpuNum": 48
   },
   {
    "_defaultOrder": 10,
    "_isFastLaunch": false,
    "category": "General purpose",
    "gpuNum": 0,
    "hideHardwareSpecs": false,
    "memoryGiB": 256,
    "name": "ml.m5.16xlarge",
    "vcpuNum": 64
   },
   {
    "_defaultOrder": 11,
    "_isFastLaunch": false,
    "category": "General purpose",
    "gpuNum": 0,
    "hideHardwareSpecs": false,
    "memoryGiB": 384,
    "name": "ml.m5.24xlarge",
    "vcpuNum": 96
   },
   {
    "_defaultOrder": 12,
    "_isFastLaunch": false,
    "category": "General purpose",
    "gpuNum": 0,
    "hideHardwareSpecs": false,
    "memoryGiB": 8,
    "name": "ml.m5d.large",
    "vcpuNum": 2
   },
   {
    "_defaultOrder": 13,
    "_isFastLaunch": false,
    "category": "General purpose",
    "gpuNum": 0,
    "hideHardwareSpecs": false,
    "memoryGiB": 16,
    "name": "ml.m5d.xlarge",
    "vcpuNum": 4
   },
   {
    "_defaultOrder": 14,
    "_isFastLaunch": false,
    "category": "General purpose",
    "gpuNum": 0,
    "hideHardwareSpecs": false,
    "memoryGiB": 32,
    "name": "ml.m5d.2xlarge",
    "vcpuNum": 8
   },
   {
    "_defaultOrder": 15,
    "_isFastLaunch": false,
    "category": "General purpose",
    "gpuNum": 0,
    "hideHardwareSpecs": false,
    "memoryGiB": 64,
    "name": "ml.m5d.4xlarge",
    "vcpuNum": 16
   },
   {
    "_defaultOrder": 16,
    "_isFastLaunch": false,
    "category": "General purpose",
    "gpuNum": 0,
    "hideHardwareSpecs": false,
    "memoryGiB": 128,
    "name": "ml.m5d.8xlarge",
    "vcpuNum": 32
   },
   {
    "_defaultOrder": 17,
    "_isFastLaunch": false,
    "category": "General purpose",
    "gpuNum": 0,
    "hideHardwareSpecs": false,
    "memoryGiB": 192,
    "name": "ml.m5d.12xlarge",
    "vcpuNum": 48
   },
   {
    "_defaultOrder": 18,
    "_isFastLaunch": false,
    "category": "General purpose",
    "gpuNum": 0,
    "hideHardwareSpecs": false,
    "memoryGiB": 256,
    "name": "ml.m5d.16xlarge",
    "vcpuNum": 64
   },
   {
    "_defaultOrder": 19,
    "_isFastLaunch": false,
    "category": "General purpose",
    "gpuNum": 0,
    "hideHardwareSpecs": false,
    "memoryGiB": 384,
    "name": "ml.m5d.24xlarge",
    "vcpuNum": 96
   },
   {
    "_defaultOrder": 20,
    "_isFastLaunch": false,
    "category": "General purpose",
    "gpuNum": 0,
    "hideHardwareSpecs": true,
    "memoryGiB": 0,
    "name": "ml.geospatial.interactive",
    "supportedImageNames": [
     "sagemaker-geospatial-v1-0"
    ],
    "vcpuNum": 0
   },
   {
    "_defaultOrder": 21,
    "_isFastLaunch": true,
    "category": "Compute optimized",
    "gpuNum": 0,
    "hideHardwareSpecs": false,
    "memoryGiB": 4,
    "name": "ml.c5.large",
    "vcpuNum": 2
   },
   {
    "_defaultOrder": 22,
    "_isFastLaunch": false,
    "category": "Compute optimized",
    "gpuNum": 0,
    "hideHardwareSpecs": false,
    "memoryGiB": 8,
    "name": "ml.c5.xlarge",
    "vcpuNum": 4
   },
   {
    "_defaultOrder": 23,
    "_isFastLaunch": false,
    "category": "Compute optimized",
    "gpuNum": 0,
    "hideHardwareSpecs": false,
    "memoryGiB": 16,
    "name": "ml.c5.2xlarge",
    "vcpuNum": 8
   },
   {
    "_defaultOrder": 24,
    "_isFastLaunch": false,
    "category": "Compute optimized",
    "gpuNum": 0,
    "hideHardwareSpecs": false,
    "memoryGiB": 32,
    "name": "ml.c5.4xlarge",
    "vcpuNum": 16
   },
   {
    "_defaultOrder": 25,
    "_isFastLaunch": false,
    "category": "Compute optimized",
    "gpuNum": 0,
    "hideHardwareSpecs": false,
    "memoryGiB": 72,
    "name": "ml.c5.9xlarge",
    "vcpuNum": 36
   },
   {
    "_defaultOrder": 26,
    "_isFastLaunch": false,
    "category": "Compute optimized",
    "gpuNum": 0,
    "hideHardwareSpecs": false,
    "memoryGiB": 96,
    "name": "ml.c5.12xlarge",
    "vcpuNum": 48
   },
   {
    "_defaultOrder": 27,
    "_isFastLaunch": false,
    "category": "Compute optimized",
    "gpuNum": 0,
    "hideHardwareSpecs": false,
    "memoryGiB": 144,
    "name": "ml.c5.18xlarge",
    "vcpuNum": 72
   },
   {
    "_defaultOrder": 28,
    "_isFastLaunch": false,
    "category": "Compute optimized",
    "gpuNum": 0,
    "hideHardwareSpecs": false,
    "memoryGiB": 192,
    "name": "ml.c5.24xlarge",
    "vcpuNum": 96
   },
   {
    "_defaultOrder": 29,
    "_isFastLaunch": true,
    "category": "Accelerated computing",
    "gpuNum": 1,
    "hideHardwareSpecs": false,
    "memoryGiB": 16,
    "name": "ml.g4dn.xlarge",
    "vcpuNum": 4
   },
   {
    "_defaultOrder": 30,
    "_isFastLaunch": false,
    "category": "Accelerated computing",
    "gpuNum": 1,
    "hideHardwareSpecs": false,
    "memoryGiB": 32,
    "name": "ml.g4dn.2xlarge",
    "vcpuNum": 8
   },
   {
    "_defaultOrder": 31,
    "_isFastLaunch": false,
    "category": "Accelerated computing",
    "gpuNum": 1,
    "hideHardwareSpecs": false,
    "memoryGiB": 64,
    "name": "ml.g4dn.4xlarge",
    "vcpuNum": 16
   },
   {
    "_defaultOrder": 32,
    "_isFastLaunch": false,
    "category": "Accelerated computing",
    "gpuNum": 1,
    "hideHardwareSpecs": false,
    "memoryGiB": 128,
    "name": "ml.g4dn.8xlarge",
    "vcpuNum": 32
   },
   {
    "_defaultOrder": 33,
    "_isFastLaunch": false,
    "category": "Accelerated computing",
    "gpuNum": 4,
    "hideHardwareSpecs": false,
    "memoryGiB": 192,
    "name": "ml.g4dn.12xlarge",
    "vcpuNum": 48
   },
   {
    "_defaultOrder": 34,
    "_isFastLaunch": false,
    "category": "Accelerated computing",
    "gpuNum": 1,
    "hideHardwareSpecs": false,
    "memoryGiB": 256,
    "name": "ml.g4dn.16xlarge",
    "vcpuNum": 64
   },
   {
    "_defaultOrder": 35,
    "_isFastLaunch": false,
    "category": "Accelerated computing",
    "gpuNum": 1,
    "hideHardwareSpecs": false,
    "memoryGiB": 61,
    "name": "ml.p3.2xlarge",
    "vcpuNum": 8
   },
   {
    "_defaultOrder": 36,
    "_isFastLaunch": false,
    "category": "Accelerated computing",
    "gpuNum": 4,
    "hideHardwareSpecs": false,
    "memoryGiB": 244,
    "name": "ml.p3.8xlarge",
    "vcpuNum": 32
   },
   {
    "_defaultOrder": 37,
    "_isFastLaunch": false,
    "category": "Accelerated computing",
    "gpuNum": 8,
    "hideHardwareSpecs": false,
    "memoryGiB": 488,
    "name": "ml.p3.16xlarge",
    "vcpuNum": 64
   },
   {
    "_defaultOrder": 38,
    "_isFastLaunch": false,
    "category": "Accelerated computing",
    "gpuNum": 8,
    "hideHardwareSpecs": false,
    "memoryGiB": 768,
    "name": "ml.p3dn.24xlarge",
    "vcpuNum": 96
   },
   {
    "_defaultOrder": 39,
    "_isFastLaunch": false,
    "category": "Memory Optimized",
    "gpuNum": 0,
    "hideHardwareSpecs": false,
    "memoryGiB": 16,
    "name": "ml.r5.large",
    "vcpuNum": 2
   },
   {
    "_defaultOrder": 40,
    "_isFastLaunch": false,
    "category": "Memory Optimized",
    "gpuNum": 0,
    "hideHardwareSpecs": false,
    "memoryGiB": 32,
    "name": "ml.r5.xlarge",
    "vcpuNum": 4
   },
   {
    "_defaultOrder": 41,
    "_isFastLaunch": false,
    "category": "Memory Optimized",
    "gpuNum": 0,
    "hideHardwareSpecs": false,
    "memoryGiB": 64,
    "name": "ml.r5.2xlarge",
    "vcpuNum": 8
   },
   {
    "_defaultOrder": 42,
    "_isFastLaunch": false,
    "category": "Memory Optimized",
    "gpuNum": 0,
    "hideHardwareSpecs": false,
    "memoryGiB": 128,
    "name": "ml.r5.4xlarge",
    "vcpuNum": 16
   },
   {
    "_defaultOrder": 43,
    "_isFastLaunch": false,
    "category": "Memory Optimized",
    "gpuNum": 0,
    "hideHardwareSpecs": false,
    "memoryGiB": 256,
    "name": "ml.r5.8xlarge",
    "vcpuNum": 32
   },
   {
    "_defaultOrder": 44,
    "_isFastLaunch": false,
    "category": "Memory Optimized",
    "gpuNum": 0,
    "hideHardwareSpecs": false,
    "memoryGiB": 384,
    "name": "ml.r5.12xlarge",
    "vcpuNum": 48
   },
   {
    "_defaultOrder": 45,
    "_isFastLaunch": false,
    "category": "Memory Optimized",
    "gpuNum": 0,
    "hideHardwareSpecs": false,
    "memoryGiB": 512,
    "name": "ml.r5.16xlarge",
    "vcpuNum": 64
   },
   {
    "_defaultOrder": 46,
    "_isFastLaunch": false,
    "category": "Memory Optimized",
    "gpuNum": 0,
    "hideHardwareSpecs": false,
    "memoryGiB": 768,
    "name": "ml.r5.24xlarge",
    "vcpuNum": 96
   },
   {
    "_defaultOrder": 47,
    "_isFastLaunch": false,
    "category": "Accelerated computing",
    "gpuNum": 1,
    "hideHardwareSpecs": false,
    "memoryGiB": 16,
    "name": "ml.g5.xlarge",
    "vcpuNum": 4
   },
   {
    "_defaultOrder": 48,
    "_isFastLaunch": false,
    "category": "Accelerated computing",
    "gpuNum": 1,
    "hideHardwareSpecs": false,
    "memoryGiB": 32,
    "name": "ml.g5.2xlarge",
    "vcpuNum": 8
   },
   {
    "_defaultOrder": 49,
    "_isFastLaunch": false,
    "category": "Accelerated computing",
    "gpuNum": 1,
    "hideHardwareSpecs": false,
    "memoryGiB": 64,
    "name": "ml.g5.4xlarge",
    "vcpuNum": 16
   },
   {
    "_defaultOrder": 50,
    "_isFastLaunch": false,
    "category": "Accelerated computing",
    "gpuNum": 1,
    "hideHardwareSpecs": false,
    "memoryGiB": 128,
    "name": "ml.g5.8xlarge",
    "vcpuNum": 32
   },
   {
    "_defaultOrder": 51,
    "_isFastLaunch": false,
    "category": "Accelerated computing",
    "gpuNum": 1,
    "hideHardwareSpecs": false,
    "memoryGiB": 256,
    "name": "ml.g5.16xlarge",
    "vcpuNum": 64
   },
   {
    "_defaultOrder": 52,
    "_isFastLaunch": false,
    "category": "Accelerated computing",
    "gpuNum": 4,
    "hideHardwareSpecs": false,
    "memoryGiB": 192,
    "name": "ml.g5.12xlarge",
    "vcpuNum": 48
   },
   {
    "_defaultOrder": 53,
    "_isFastLaunch": false,
    "category": "Accelerated computing",
    "gpuNum": 4,
    "hideHardwareSpecs": false,
    "memoryGiB": 384,
    "name": "ml.g5.24xlarge",
    "vcpuNum": 96
   },
   {
    "_defaultOrder": 54,
    "_isFastLaunch": false,
    "category": "Accelerated computing",
    "gpuNum": 8,
    "hideHardwareSpecs": false,
    "memoryGiB": 768,
    "name": "ml.g5.48xlarge",
    "vcpuNum": 192
   },
   {
    "_defaultOrder": 55,
    "_isFastLaunch": false,
    "category": "Accelerated computing",
    "gpuNum": 8,
    "hideHardwareSpecs": false,
    "memoryGiB": 1152,
    "name": "ml.p4d.24xlarge",
    "vcpuNum": 96
   },
   {
    "_defaultOrder": 56,
    "_isFastLaunch": false,
    "category": "Accelerated computing",
    "gpuNum": 8,
    "hideHardwareSpecs": false,
    "memoryGiB": 1152,
    "name": "ml.p4de.24xlarge",
    "vcpuNum": 96
   }
  ],
  "instance_type": "ml.t3.medium",
  "kernelspec": {
   "display_name": "Python 3 (Data Science)",
   "language": "python",
   "name": "python3__SAGEMAKER_INTERNAL__arn:aws:sagemaker:us-east-2:429704687514:image/datascience-1.0"
  },
  "language_info": {
   "codemirror_mode": {
    "name": "ipython",
    "version": 3
   },
   "file_extension": ".py",
   "mimetype": "text/x-python",
   "name": "python",
   "nbconvert_exporter": "python",
   "pygments_lexer": "ipython3",
   "version": "3.7.10"
  }
 },
 "nbformat": 4,
 "nbformat_minor": 5
}
